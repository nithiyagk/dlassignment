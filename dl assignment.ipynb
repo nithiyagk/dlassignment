{
 "cells": [
  {
   "cell_type": "code",
   "execution_count": 2,
   "id": "439fcac9",
   "metadata": {},
   "outputs": [],
   "source": [
    "import pandas as pd\n",
    "import numpy as np\n",
    "import nltk\n",
    "from nltk.corpus import stopwords\n",
    "from sklearn.model_selection import train_test_split\n",
    "from sklearn.feature_extraction.text import TfidfVectorizer\n",
    "from sklearn.preprocessing import LabelEncoder\n",
    "from tensorflow.keras.models import Sequential\n",
    "from tensorflow.keras.layers import Dense, Dropout\n",
    "from tensorflow.keras.utils import to_categorical\n",
    "from sklearn.metrics import accuracy_score, classification_report"
   ]
  },
  {
   "cell_type": "code",
   "execution_count": 3,
   "id": "f971b2f5",
   "metadata": {},
   "outputs": [
    {
     "name": "stderr",
     "output_type": "stream",
     "text": [
      "[nltk_data] Downloading package stopwords to\n",
      "[nltk_data]     C:\\Users\\NITHIYAGOKULAVASAGI\\AppData\\Roaming\\nltk_data\n",
      "[nltk_data]     ...\n",
      "[nltk_data]   Package stopwords is already up-to-date!\n"
     ]
    }
   ],
   "source": [
    "nltk.download('stopwords')\n",
    "stop_words = set(stopwords.words('english'))"
   ]
  },
  {
   "cell_type": "code",
   "execution_count": 4,
   "id": "f75754ed",
   "metadata": {},
   "outputs": [],
   "source": [
    "def load_dataset(file_path):\n",
    "    df = pd.read_csv(file_path, encoding='latin1')\n",
    "    return df"
   ]
  },
  {
   "cell_type": "code",
   "execution_count": 5,
   "id": "43460fac",
   "metadata": {},
   "outputs": [],
   "source": [
    "def preprocess_data(df):\n",
    "    \n",
    "    df['text'] = df['text'].fillna('')\n",
    "    df['sentiment'] = df['sentiment'].fillna('neutral')  \n",
    "\n",
    "    \n",
    "    df['sentiment'] = df['sentiment'].astype(str)\n",
    "\n",
    "    \n",
    "    df['text'] = df['text'].apply(lambda x: \" \".join([word for word in x.split() if word not in stop_words]))\n",
    "    return df\n"
   ]
  },
  {
   "cell_type": "code",
   "execution_count": 6,
   "id": "25035b15",
   "metadata": {},
   "outputs": [],
   "source": [
    "def train_model(X_train, y_train):\n",
    "    \n",
    "    vectorizer = TfidfVectorizer(max_features=5000)\n",
    "    X_train_vec = vectorizer.fit_transform(X_train).toarray()\n",
    "\n",
    "    \n",
    "    label_encoder = LabelEncoder()\n",
    "    y_train_encoded = label_encoder.fit_transform(y_train)\n",
    "    y_train_one_hot = to_categorical(y_train_encoded)\n",
    "\n",
    "    \n",
    "    model = Sequential()\n",
    "    model.add(Dense(512, input_dim=X_train_vec.shape[1], activation='relu'))\n",
    "    model.add(Dropout(0.5))\n",
    "    model.add(Dense(256, activation='relu'))\n",
    "    model.add(Dropout(0.5))\n",
    "    model.add(Dense(y_train_one_hot.shape[1], activation='softmax'))\n",
    "\n",
    "    model.compile(optimizer='adam', loss='categorical_crossentropy', metrics=['accuracy'])\n",
    "    model.fit(X_train_vec, y_train_one_hot, epochs=10, batch_size=32, validation_split=0.1, verbose=1)\n",
    "\n",
    "    return model, vectorizer, label_encoder"
   ]
  },
  {
   "cell_type": "code",
   "execution_count": 7,
   "id": "f050b4bb",
   "metadata": {},
   "outputs": [],
   "source": [
    "def evaluate_model(model, vectorizer, label_encoder, X_test, y_test):\n",
    "    \n",
    "    X_test_vec = vectorizer.transform(X_test).toarray()\n",
    "\n",
    "    \n",
    "    y_test_encoded = label_encoder.transform(y_test)\n",
    "    y_test_one_hot = to_categorical(y_test_encoded)\n",
    "\n",
    "    \n",
    "    y_pred_prob = model.predict(X_test_vec)\n",
    "    y_pred = np.argmax(y_pred_prob, axis=1)\n",
    "\n",
    "    accuracy = accuracy_score(np.argmax(y_test_one_hot, axis=1), y_pred)\n",
    "    report = classification_report(np.argmax(y_test_one_hot, axis=1), y_pred, target_names=label_encoder.classes_)\n",
    "\n",
    "    return accuracy, report"
   ]
  },
  {
   "cell_type": "code",
   "execution_count": 8,
   "id": "5ad34f5f",
   "metadata": {},
   "outputs": [],
   "source": [
    "def predict_sentiment(model, vectorizer, label_encoder, text):\n",
    "    \n",
    "    text = \" \".join([word for word in text.split() if word not in stop_words])\n",
    "\n",
    "    \n",
    "    text_vec = vectorizer.transform([text]).toarray()\n",
    "\n",
    "    \n",
    "    text_pred_prob = model.predict(text_vec)\n",
    "    text_pred = np.argmax(text_pred_prob, axis=1)\n",
    "    sentiment = label_encoder.inverse_transform(text_pred)\n",
    "\n",
    "    return sentiment[0]"
   ]
  },
  {
   "cell_type": "code",
   "execution_count": 12,
   "id": "e87a4016",
   "metadata": {},
   "outputs": [
    {
     "name": "stderr",
     "output_type": "stream",
     "text": [
      "C:\\Users\\NITHIYAGOKULAVASAGI\\anaconda3\\lib\\site-packages\\keras\\src\\layers\\core\\dense.py:87: UserWarning: Do not pass an `input_shape`/`input_dim` argument to a layer. When using Sequential models, prefer using an `Input(shape)` object as the first layer in the model instead.\n",
      "  super().__init__(activity_regularizer=activity_regularizer, **kwargs)\n"
     ]
    },
    {
     "name": "stdout",
     "output_type": "stream",
     "text": [
      "Epoch 1/10\n",
      "\u001b[1m136/136\u001b[0m \u001b[32m━━━━━━━━━━━━━━━━━━━━\u001b[0m\u001b[37m\u001b[0m \u001b[1m9s\u001b[0m 43ms/step - accuracy: 0.5141 - loss: 1.0163 - val_accuracy: 1.0000 - val_loss: 0.1735\n",
      "Epoch 2/10\n",
      "\u001b[1m136/136\u001b[0m \u001b[32m━━━━━━━━━━━━━━━━━━━━\u001b[0m\u001b[37m\u001b[0m \u001b[1m5s\u001b[0m 39ms/step - accuracy: 0.8156 - loss: 0.5021 - val_accuracy: 1.0000 - val_loss: 0.0678\n",
      "Epoch 3/10\n",
      "\u001b[1m136/136\u001b[0m \u001b[32m━━━━━━━━━━━━━━━━━━━━\u001b[0m\u001b[37m\u001b[0m \u001b[1m5s\u001b[0m 39ms/step - accuracy: 0.9379 - loss: 0.2086 - val_accuracy: 1.0000 - val_loss: 0.0147\n",
      "Epoch 4/10\n",
      "\u001b[1m136/136\u001b[0m \u001b[32m━━━━━━━━━━━━━━━━━━━━\u001b[0m\u001b[37m\u001b[0m \u001b[1m5s\u001b[0m 39ms/step - accuracy: 0.9774 - loss: 0.0834 - val_accuracy: 1.0000 - val_loss: 0.0033\n",
      "Epoch 5/10\n",
      "\u001b[1m136/136\u001b[0m \u001b[32m━━━━━━━━━━━━━━━━━━━━\u001b[0m\u001b[37m\u001b[0m \u001b[1m5s\u001b[0m 39ms/step - accuracy: 0.9888 - loss: 0.0399 - val_accuracy: 1.0000 - val_loss: 0.0014\n",
      "Epoch 6/10\n",
      "\u001b[1m136/136\u001b[0m \u001b[32m━━━━━━━━━━━━━━━━━━━━\u001b[0m\u001b[37m\u001b[0m \u001b[1m5s\u001b[0m 39ms/step - accuracy: 0.9943 - loss: 0.0272 - val_accuracy: 1.0000 - val_loss: 0.0010\n",
      "Epoch 7/10\n",
      "\u001b[1m136/136\u001b[0m \u001b[32m━━━━━━━━━━━━━━━━━━━━\u001b[0m\u001b[37m\u001b[0m \u001b[1m5s\u001b[0m 39ms/step - accuracy: 0.9971 - loss: 0.0153 - val_accuracy: 1.0000 - val_loss: 5.6013e-04\n",
      "Epoch 8/10\n",
      "\u001b[1m136/136\u001b[0m \u001b[32m━━━━━━━━━━━━━━━━━━━━\u001b[0m\u001b[37m\u001b[0m \u001b[1m5s\u001b[0m 39ms/step - accuracy: 0.9988 - loss: 0.0087 - val_accuracy: 1.0000 - val_loss: 5.3225e-04\n",
      "Epoch 9/10\n",
      "\u001b[1m136/136\u001b[0m \u001b[32m━━━━━━━━━━━━━━━━━━━━\u001b[0m\u001b[37m\u001b[0m \u001b[1m6s\u001b[0m 40ms/step - accuracy: 0.9973 - loss: 0.0131 - val_accuracy: 1.0000 - val_loss: 4.7720e-04\n",
      "Epoch 10/10\n",
      "\u001b[1m136/136\u001b[0m \u001b[32m━━━━━━━━━━━━━━━━━━━━\u001b[0m\u001b[37m\u001b[0m \u001b[1m6s\u001b[0m 42ms/step - accuracy: 0.9986 - loss: 0.0053 - val_accuracy: 1.0000 - val_loss: 5.2665e-04\n",
      "\u001b[1m859/859\u001b[0m \u001b[32m━━━━━━━━━━━━━━━━━━━━\u001b[0m\u001b[37m\u001b[0m \u001b[1m6s\u001b[0m 7ms/step\n",
      "Accuracy: 0.5872057057603435\n",
      "Classification Report:\n",
      "              precision    recall  f1-score   support\n",
      "\n",
      "    negative       0.59      0.53      0.56      7781\n",
      "     neutral       0.55      0.57      0.56     11118\n",
      "    positive       0.63      0.66      0.64      8582\n",
      "\n",
      "    accuracy                           0.59     27481\n",
      "   macro avg       0.59      0.59      0.59     27481\n",
      "weighted avg       0.59      0.59      0.59     27481\n",
      "\n",
      "Enter a sentence to analyze sentiment (or type 'exit' to quit): exit\n"
     ]
    }
   ],
   "source": [
    "def main(train_file_path, test_file_path):\n",
    "    \n",
    "    train_df = load_dataset(train_file_path)\n",
    "    test_df = load_dataset(test_file_path)\n",
    "\n",
    "    train_df = preprocess_data(train_df)\n",
    "    test_df = preprocess_data(test_df)\n",
    "\n",
    "    \n",
    "    X_train = train_df['text']\n",
    "    y_train = train_df['sentiment']\n",
    "    X_test = test_df['text']\n",
    "    y_test = test_df['sentiment']\n",
    "\n",
    "    \n",
    "    model, vectorizer, label_encoder = train_model(X_train, y_train)\n",
    "\n",
    "    \n",
    "    accuracy, report = evaluate_model(model, vectorizer, label_encoder, X_test, y_test)\n",
    "\n",
    "    print(f\"Accuracy: {accuracy}\")\n",
    "    print(f\"Classification Report:\\n{report}\")\n",
    "\n",
    "    \n",
    "    while True:\n",
    "        user_input = input(\"Enter a sentence to analyze sentiment (or type 'exit' to quit): \")\n",
    "        if user_input.lower() == 'exit':\n",
    "            break\n",
    "        sentiment = predict_sentiment(model, vectorizer, label_encoder, user_input)\n",
    "        print(f\"The sentiment of the sentence is: {sentiment}\")\n",
    "\n",
    "\n",
    "main(\"C:/Users/NITHIYAGOKULAVASAGI/Desktop/dl/testsenti.csv\", \"C:/Users/NITHIYAGOKULAVASAGI/Desktop/dl/trainsenti.csv\")\n"
   ]
  },
  {
   "cell_type": "code",
   "execution_count": null,
   "id": "8612f8bf",
   "metadata": {},
   "outputs": [],
   "source": []
  }
 ],
 "metadata": {
  "kernelspec": {
   "display_name": "Python 3 (ipykernel)",
   "language": "python",
   "name": "python3"
  },
  "language_info": {
   "codemirror_mode": {
    "name": "ipython",
    "version": 3
   },
   "file_extension": ".py",
   "mimetype": "text/x-python",
   "name": "python",
   "nbconvert_exporter": "python",
   "pygments_lexer": "ipython3",
   "version": "3.10.9"
  }
 },
 "nbformat": 4,
 "nbformat_minor": 5
}
